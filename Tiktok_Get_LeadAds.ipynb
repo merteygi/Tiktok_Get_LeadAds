{
 "cells": [
  {
   "cell_type": "code",
   "execution_count": 1,
   "id": "1e0383e2",
   "metadata": {},
   "outputs": [],
   "source": [
    "import pandas as pd\n",
    "import requests\n",
    "import unidecode\n",
    "import numpy as np\n",
    "import getpass\n",
    "from datetime import datetime, timedelta\n",
    "from tqdm import tqdm\n",
    "\n",
    "import warnings   \n",
    "warnings.filterwarnings(\"ignore\")"
   ]
  },
  {
   "cell_type": "code",
   "execution_count": 2,
   "id": "72a60932",
   "metadata": {},
   "outputs": [],
   "source": [
    "def run_query(query,query_name = 'Sorgu'):\n",
    "    import cx_Oracle\n",
    "    from datetime import datetime \n",
    "    \n",
    "    # ORACLE CONNECTION INFO\n",
    "    CONN_INFO = {'host': YOUR_HOST,\n",
    "                 'port': YOUR_PORT,\n",
    "                 'user': YOUR_USER,\n",
    "                 'psw': YOUR_PASSWORD,\n",
    "                 'service': YOUR_SERVICE}\n",
    "\n",
    "    #print(f'\\n{CONN_INFO[\"service\"]} servisine baglaniliyor...')\n",
    "    CONN_STR = '{user}/{psw}@{host}:{port}/{service}'.format(**CONN_INFO)\n",
    "\n",
    "    con = cx_Oracle.connect(CONN_STR)\n",
    "    #print(f'{CONN_INFO[\"service\"]} servisine bağlanıldı.')\n",
    "\n",
    "    begin = datetime.now()\n",
    "    print(f'\\n{query_name} koşuyor.. Başlama saati {begin.hour}:{begin.minute}:{begin.second}')\n",
    "\n",
    "    data = pd.read_sql(query, con)\n",
    "\n",
    "    end = datetime.now()\n",
    "    delta = end - begin\n",
    "    print(f'\\t{query_name} {round(delta.total_seconds(),1)} saniyede koştu.\\n')\n",
    "\n",
    "    #print(data.tail(5)) #Son 5 Satırı getir.\n",
    "\n",
    "    con.close()\n",
    "\n",
    "    return data"
   ]
  },
  {
   "cell_type": "code",
   "execution_count": 3,
   "id": "88392503",
   "metadata": {},
   "outputs": [
    {
     "data": {
      "text/plain": [
       "'mert.eygi'"
      ]
     },
     "execution_count": 3,
     "metadata": {},
     "output_type": "execute_result"
    }
   ],
   "source": [
    "username = getpass.getuser()\n",
    "username"
   ]
  },
  {
   "cell_type": "code",
   "execution_count": 4,
   "id": "39311ed0",
   "metadata": {},
   "outputs": [],
   "source": [
    "ACCESS_TOKEN = YOUR_TIKTOK_ACCESS_TOKEN\n",
    "ADVERTISER_ID = YOUR_TIKTOK_ADVERTISER_ID"
   ]
  },
  {
   "cell_type": "code",
   "execution_count": 5,
   "id": "acbba840",
   "metadata": {},
   "outputs": [],
   "source": [
    "headers = {\n",
    "    'Access-Token': ACCESS_TOKEN,\n",
    "}"
   ]
  },
  {
   "cell_type": "markdown",
   "id": "9a53f795",
   "metadata": {},
   "source": [
    "# 1. Get PAGE_IDs\n",
    "\n",
    "https://ads.tiktok.com/marketing_api/docs?id=1735735588640770"
   ]
  },
  {
   "cell_type": "code",
   "execution_count": 6,
   "id": "c205e174",
   "metadata": {
    "scrolled": true
   },
   "outputs": [
    {
     "name": "stdout",
     "output_type": "stream",
     "text": [
      "response :\n",
      "<Response [200]>\n",
      "Page Info:\n",
      "{'page': 1, 'page_size': 1000, 'total_page': 1, 'total_number': 180}\n"
     ]
    }
   ],
   "source": [
    "## GET PAGE_IDs\n",
    "params = {\n",
    "    'advertiser_id': ADVERTISER_ID,\n",
    "    #'fields': '[\"FIELDS\"]',\n",
    "    #'filtering': '{\"status\": \"STATUS\", \"adgroup_ids\": [\"ADGROUP_IDS\"], \"adgroup_name\": \"ADGROUP_NAME\", \"campaign_ids\": [\"CAMPAIGN_IDS\"], \"billing_events\": [\"BILLING_EVENTS\"], \"primary_status\": \"PRIMARY_STATUS\", \"objective_type\": \"OBJECTIVE_TYPE\"}',\n",
    "    #'page': '{{PAGE}}',\n",
    "    #'page_size': '{{PAGE_SIZE}}',\n",
    "    'page_size': '1000'\n",
    "}\n",
    "\n",
    "response = requests.get('https://business-api.tiktok.com/open_api/v1.3/ad/get/', params=params, headers=headers)\n",
    "print(f'response :\\n{response}')\n",
    "\n",
    "print(f\"Page Info:\\n{response.json()['data']['page_info']}\")\n",
    "\n",
    "#Desired columns to get all page_ids\n",
    "cols = ['advertiser_id','campaign_id','campaign_name','adgroup_id', 'adgroup_name','ad_id','ad_name','page_id','create_time']\n",
    "\n",
    "df_get_ads = pd.DataFrame(response.json()['data']['list'])[cols]\n",
    "#print(df_get_ads.shape)\n",
    "#df_get_ads.head()"
   ]
  },
  {
   "cell_type": "markdown",
   "id": "c9e90c5a",
   "metadata": {},
   "source": [
    "# 2. Get TASK_IDs"
   ]
  },
  {
   "cell_type": "code",
   "execution_count": 7,
   "id": "58dffcb0",
   "metadata": {
    "scrolled": true
   },
   "outputs": [
    {
     "name": "stderr",
     "output_type": "stream",
     "text": [
      "100%|██████████████████████████████████████████████████████████████████████████████████| 82/82 [00:36<00:00,  2.26it/s]\n"
     ]
    }
   ],
   "source": [
    "## GET TASK_IDs \n",
    "\n",
    "params_create_task = {\n",
    "    'advertiser_id': ADVERTISER_ID,\n",
    "    'page_id': '0'\n",
    "}\n",
    "\n",
    "params_dl_lead = {\n",
    "    'advertiser_id': ADVERTISER_ID,\n",
    "    'task_id': '0'\n",
    "}\n",
    "\n",
    "\n",
    "task_ids = []\n",
    "\n",
    "count=0\n",
    "for p in tqdm(df_get_ads['page_id'].unique()):\n",
    "    #print(f'---------------task_id: {p},count:{count}------------------')\n",
    "    params_create_task['page_id'] = p\n",
    "    \n",
    "    rsp_create_task = requests.post('https://ads.tiktok.com/open_api/v1.3/page/lead/task/', \n",
    "                                    params=params_create_task, \n",
    "                                    headers=headers).json()\n",
    "\n",
    "    #print(rsp_create_task)\n",
    "\n",
    "    TASK_ID = rsp_create_task['data']['task_id']\n",
    "    task_ids.append(TASK_ID)\n",
    "    count += 1"
   ]
  },
  {
   "cell_type": "markdown",
   "id": "5b5d4786",
   "metadata": {},
   "source": [
    "# 3. Collect All Leads"
   ]
  },
  {
   "cell_type": "code",
   "execution_count": 8,
   "id": "252a61ad",
   "metadata": {
    "scrolled": true
   },
   "outputs": [
    {
     "name": "stderr",
     "output_type": "stream",
     "text": [
      "100%|██████████████████████████████████████████████████████████████████████████████████| 82/82 [01:07<00:00,  1.21it/s]"
     ]
    },
    {
     "name": "stdout",
     "output_type": "stream",
     "text": [
      "(4192, 15)\n"
     ]
    },
    {
     "name": "stderr",
     "output_type": "stream",
     "text": [
      "\n"
     ]
    }
   ],
   "source": [
    "# COLLECT ALL LEADs\n",
    "count=0\n",
    "cols_all_leads = []\n",
    "df_tiktok_leads = pd.DataFrame()\n",
    "for t in tqdm(task_ids):\n",
    "    #print(f'---------------task_id: {t},count:{count}------------------')\n",
    "    params_dl_lead['task_id'] = t\n",
    "    \n",
    "    lead_res = requests.get('https://business-api.tiktok.com/open_api/v1.3/page/lead/task/download/', \n",
    "                        params=params_dl_lead, \n",
    "                        headers=headers)\n",
    "    #print(f'response:\\t{lead_res}')\n",
    "    \n",
    "    lead_res_list = lead_res.text.split('\\n')\n",
    "    \n",
    "    if lead_res_list != ['']:\n",
    "        #print(lead_res_list[2].find('\"'))\n",
    "        cols_all_leads.append(lead_res_list[0].split(','))\n",
    "\n",
    "        \n",
    "        lead_res_list2 = []\n",
    "        for lead_row in lead_res_list:\n",
    "            # if the string not contains (\").\n",
    "            if lead_row.find('\"')==-1: \n",
    "                lead_row_splitted = lead_row.split(',')\n",
    "            # if the string contains (\").    \n",
    "            else: \n",
    "                lead_split = lead_row.split('\"')\n",
    "                if len(lead_split)==3:\n",
    "                    lead_row_splitted = lead_split[0][:-1].split(',') + [lead_split[1]] + lead_split[2][1:].split(',')\n",
    "                else:\n",
    "                    print(f'Something Different, len(lead_split): {len(lead_split)}')\n",
    "                    lead_row_splitted = ['']\n",
    "            lead_res_list2.append(lead_row_splitted)\n",
    "        \n",
    "        \n",
    "        temp_lead_df = pd.DataFrame(lead_res_list2)\n",
    "        temp_lead_df.columns = temp_lead_df.iloc[0]\n",
    "        #display(temp_lead_df)\n",
    "        temp_lead_df.dropna(thresh=10,inplace=True)\n",
    "        temp_lead_df.drop(index=0,axis=0,inplace=True)\n",
    "        temp_lead_df.reset_index(drop=True,inplace=True)\n",
    "\n",
    "        #print(f'temp_lead_df.shape: {temp_lead_df.shape}')\n",
    "        df_tiktok_leads = pd.concat([df_tiktok_leads,temp_lead_df],axis=0)\n",
    "    \n",
    "    count += 1\n",
    "\n",
    "\n",
    "print(df_tiktok_leads.shape)\n",
    "df_tiktok_leads.reset_index(inplace=True,drop=True)"
   ]
  },
  {
   "cell_type": "markdown",
   "id": "9cc96802",
   "metadata": {},
   "source": [
    "# 4. Edit The TikTok Leads"
   ]
  },
  {
   "cell_type": "code",
   "execution_count": 9,
   "id": "6acadf46",
   "metadata": {},
   "outputs": [],
   "source": [
    "df_tiktok_orj = df_tiktok_leads.copy()"
   ]
  },
  {
   "cell_type": "code",
   "execution_count": 10,
   "id": "7a3de6c3",
   "metadata": {},
   "outputs": [],
   "source": [
    "df_tiktok_leads = df_tiktok_orj.copy()"
   ]
  },
  {
   "cell_type": "code",
   "execution_count": 1,
   "id": "b5d17033",
   "metadata": {
    "scrolled": false
   },
   "outputs": [],
   "source": [
    "#print(df_tiktok_leads.shape)\n",
    "#df_tiktok_leads.head()"
   ]
  },
  {
   "cell_type": "code",
   "execution_count": 12,
   "id": "3f8b17a0",
   "metadata": {
    "scrolled": false
   },
   "outputs": [
    {
     "name": "stdout",
     "output_type": "stream",
     "text": [
      "<class 'pandas.core.frame.DataFrame'>\n",
      "RangeIndex: 4192 entries, 0 to 4191\n",
      "Data columns (total 15 columns):\n",
      " #   Column                                            Non-Null Count  Dtype \n",
      "---  ------                                            --------------  ----- \n",
      " 0   lead_id                                           4192 non-null   object\n",
      " 1   created_time                                      4192 non-null   object\n",
      " 2   ad_id                                             4192 non-null   object\n",
      " 3   ad_name                                           4192 non-null   object\n",
      " 4   adgroup_id                                        4192 non-null   object\n",
      " 5   adgroup_name                                      4192 non-null   object\n",
      " 6   campaign_id                                       4192 non-null   object\n",
      " 7   campaign_name                                     4192 non-null   object\n",
      " 8   form_id                                           4192 non-null   object\n",
      " 9   form_name                                         4192 non-null   object\n",
      " 10  Ad                                                4192 non-null   object\n",
      " 11  E-posta                                           4192 non-null   object\n",
      " 12  Telefon numarası                                  4192 non-null   object\n",
      " 13  Hangi Kulübümüzle İlgili Bilgi Almak İstersiniz?  213 non-null    object\n",
      " 14  Hangi Kulübümüzle İlgili Bilgi Almak İstersin?    3782 non-null   object\n",
      "dtypes: object(15)\n",
      "memory usage: 491.4+ KB\n"
     ]
    }
   ],
   "source": [
    "df_tiktok_leads.info()"
   ]
  },
  {
   "cell_type": "code",
   "execution_count": 13,
   "id": "5a5ec767",
   "metadata": {
    "scrolled": false
   },
   "outputs": [
    {
     "data": {
      "text/plain": [
       "Index(['lead_id', 'created_time', 'ad_id', 'ad_name', 'adgroup_id',\n",
       "       'adgroup_name', 'campaign_id', 'campaign_name', 'form_id', 'form_name',\n",
       "       'Ad', 'E-posta', 'Telefon numarası',\n",
       "       'Hangi Kulübümüzle İlgili Bilgi Almak İstersiniz?',\n",
       "       'Hangi Kulübümüzle İlgili Bilgi Almak İstersin?'],\n",
       "      dtype='object', name=0)"
      ]
     },
     "execution_count": 13,
     "metadata": {},
     "output_type": "execute_result"
    }
   ],
   "source": [
    "df_tiktok_leads.columns"
   ]
  },
  {
   "cell_type": "code",
   "execution_count": 14,
   "id": "758a86a2",
   "metadata": {},
   "outputs": [],
   "source": [
    "df_tiktok_leads['CLUB'] = 'GENEL'\n",
    "\n",
    "for i in df_tiktok_leads.columns:\n",
    "    i2 = unidecode.unidecode(i.lower()) # convert non-english chars to eng chars\n",
    "    if ('kulub' in i2) or ('club' in i2) or ('kulup' in i2):\n",
    "        df_tiktok_leads.loc[~df_tiktok_leads[i].isna(),'CLUB'] = df_tiktok_leads.loc[~df_tiktok_leads[i].isna(),i].str.lower().str.replace(' ','_')"
   ]
  },
  {
   "cell_type": "code",
   "execution_count": 15,
   "id": "1c5e827a",
   "metadata": {
    "scrolled": false
   },
   "outputs": [
    {
     "name": "stdout",
     "output_type": "stream",
     "text": [
      "<class 'pandas.core.frame.DataFrame'>\n",
      "RangeIndex: 4192 entries, 0 to 4191\n",
      "Data columns (total 16 columns):\n",
      " #   Column                                            Non-Null Count  Dtype \n",
      "---  ------                                            --------------  ----- \n",
      " 0   lead_id                                           4192 non-null   object\n",
      " 1   created_time                                      4192 non-null   object\n",
      " 2   ad_id                                             4192 non-null   object\n",
      " 3   ad_name                                           4192 non-null   object\n",
      " 4   adgroup_id                                        4192 non-null   object\n",
      " 5   adgroup_name                                      4192 non-null   object\n",
      " 6   campaign_id                                       4192 non-null   object\n",
      " 7   campaign_name                                     4192 non-null   object\n",
      " 8   form_id                                           4192 non-null   object\n",
      " 9   form_name                                         4192 non-null   object\n",
      " 10  Ad                                                4192 non-null   object\n",
      " 11  E-posta                                           4192 non-null   object\n",
      " 12  Telefon numarası                                  4192 non-null   object\n",
      " 13  Hangi Kulübümüzle İlgili Bilgi Almak İstersiniz?  213 non-null    object\n",
      " 14  Hangi Kulübümüzle İlgili Bilgi Almak İstersin?    3782 non-null   object\n",
      " 15  CLUB                                              4192 non-null   object\n",
      "dtypes: object(16)\n",
      "memory usage: 524.1+ KB\n"
     ]
    }
   ],
   "source": [
    "df_tiktok_leads.info()"
   ]
  },
  {
   "cell_type": "code",
   "execution_count": 16,
   "id": "6b57185c",
   "metadata": {},
   "outputs": [
    {
     "data": {
      "text/plain": [
       "0             torium_(esenyurt)\n",
       "1                vialand_(eyüp)\n",
       "2               cevahir_(şişli)\n",
       "3          nevçarşı_üsküdar_avm\n",
       "4             neomarin_(pendik)\n",
       "                 ...           \n",
       "4187           macfit_ege_perla\n",
       "4188       macfit_point_bornova\n",
       "4189       macfit_point_bornova\n",
       "4190    macfit_gaziemir_optimum\n",
       "4191            macfit_kidsmall\n",
       "Name: CLUB, Length: 4192, dtype: object"
      ]
     },
     "execution_count": 16,
     "metadata": {},
     "output_type": "execute_result"
    }
   ],
   "source": [
    "df_tiktok_leads['CLUB']"
   ]
  },
  {
   "cell_type": "code",
   "execution_count": 17,
   "id": "e6282273",
   "metadata": {
    "scrolled": false
   },
   "outputs": [
    {
     "name": "stdout",
     "output_type": "stream",
     "text": [
      "<class 'pandas.core.frame.DataFrame'>\n",
      "RangeIndex: 4192 entries, 0 to 4191\n",
      "Data columns (total 18 columns):\n",
      " #   Column                                            Non-Null Count  Dtype         \n",
      "---  ------                                            --------------  -----         \n",
      " 0   LEAD_ID                                           4192 non-null   int64         \n",
      " 1   CREATED_TIME                                      4192 non-null   object        \n",
      " 2   AD_ID                                             4192 non-null   int64         \n",
      " 3   AD_NAME                                           4192 non-null   object        \n",
      " 4   ADGROUP_ID                                        4192 non-null   int64         \n",
      " 5   ADGROUP_NAME                                      4192 non-null   object        \n",
      " 6   CAMPAIGN_ID                                       4192 non-null   int64         \n",
      " 7   CAMPAIGN_NAME                                     4192 non-null   object        \n",
      " 8   FORM_ID                                           4192 non-null   int64         \n",
      " 9   FORM_NAME                                         4192 non-null   object        \n",
      " 10  NAME                                              4192 non-null   object        \n",
      " 11  EMAIL                                             4192 non-null   object        \n",
      " 12  TELEFON NUMARASI                                  4192 non-null   object        \n",
      " 13  HANGI KULÜBÜMÜZLE İLGILI BILGI ALMAK İSTERSINIZ?  213 non-null    object        \n",
      " 14  HANGI KULÜBÜMÜZLE İLGILI BILGI ALMAK İSTERSIN?    3782 non-null   object        \n",
      " 15  CLUB                                              4192 non-null   object        \n",
      " 16  LEAD_DAY                                          4192 non-null   datetime64[ns]\n",
      " 17  PHONE                                             4192 non-null   object        \n",
      "dtypes: datetime64[ns](1), int64(5), object(12)\n",
      "memory usage: 589.6+ KB\n"
     ]
    }
   ],
   "source": [
    "df_tiktok_leads.rename(columns={'Ad': 'NAME', 'E-posta': 'EMAIL'},inplace=True)\n",
    "\n",
    "# Update column names with its uppercase\n",
    "df_tiktok_leads.columns = [x.upper() for x in df_tiktok_leads.columns]\n",
    "\n",
    "df_tiktok_leads['LEAD_DAY'] = df_tiktok_leads['CREATED_TIME'].apply(lambda x: x.split(' ')[0])\n",
    "df_tiktok_leads['PHONE'] = df_tiktok_leads['TELEFON NUMARASI'].apply(lambda x: x.replace(' ','').replace('-',''))\n",
    "\n",
    "\n",
    "\n",
    "df_tiktok_leads = df_tiktok_leads.astype({'LEAD_ID': 'int64','AD_ID': 'int64','ADGROUP_ID': 'int64',\n",
    "                                          'CAMPAIGN_ID' : 'int64','FORM_ID': 'int64','LEAD_DAY' : 'datetime64[ns]'\n",
    "                                         })\n",
    "\n",
    "\n",
    "\n",
    "\n",
    "df_tiktok_leads.info()"
   ]
  },
  {
   "cell_type": "code",
   "execution_count": 18,
   "id": "886cc375",
   "metadata": {
    "scrolled": true
   },
   "outputs": [
    {
     "name": "stdout",
     "output_type": "stream",
     "text": [
      "(295, 7)\n"
     ]
    },
    {
     "data": {
      "text/html": [
       "<div>\n",
       "<style scoped>\n",
       "    .dataframe tbody tr th:only-of-type {\n",
       "        vertical-align: middle;\n",
       "    }\n",
       "\n",
       "    .dataframe tbody tr th {\n",
       "        vertical-align: top;\n",
       "    }\n",
       "\n",
       "    .dataframe thead th {\n",
       "        text-align: right;\n",
       "    }\n",
       "</style>\n",
       "<table border=\"1\" class=\"dataframe\">\n",
       "  <thead>\n",
       "    <tr style=\"text-align: right;\">\n",
       "      <th></th>\n",
       "      <th>DIGITAL_MARKETING_NAME</th>\n",
       "      <th>DB_CLUB_ID</th>\n",
       "      <th>DB_SHORT_NAME</th>\n",
       "      <th>DB_CLUB_TYPE</th>\n",
       "      <th>YENI_ESKI</th>\n",
       "      <th>DB_CITY_NAME</th>\n",
       "      <th>DB_NAME</th>\n",
       "    </tr>\n",
       "  </thead>\n",
       "  <tbody>\n",
       "    <tr>\n",
       "      <th>42</th>\n",
       "      <td>fulya</td>\n",
       "      <td>14</td>\n",
       "      <td>021 Ist Fulya</td>\n",
       "      <td>macfit</td>\n",
       "      <td>YENI</td>\n",
       "      <td>İstanbul</td>\n",
       "      <td>Fulya</td>\n",
       "    </tr>\n",
       "    <tr>\n",
       "      <th>160</th>\n",
       "      <td>mac_zorlu</td>\n",
       "      <td>92</td>\n",
       "      <td>089 Ist Zorlu Center</td>\n",
       "      <td>mac</td>\n",
       "      <td>ESKI</td>\n",
       "      <td>NaN</td>\n",
       "      <td>NaN</td>\n",
       "    </tr>\n",
       "    <tr>\n",
       "      <th>197</th>\n",
       "      <td>macfit_nişantaşı_lotus</td>\n",
       "      <td>109</td>\n",
       "      <td>104 Ist Nisantasi Lotus</td>\n",
       "      <td>macfit</td>\n",
       "      <td>ESKI</td>\n",
       "      <td>NaN</td>\n",
       "      <td>NaN</td>\n",
       "    </tr>\n",
       "    <tr>\n",
       "      <th>82</th>\n",
       "      <td>macfit_podium_(yenimahalle)</td>\n",
       "      <td>35</td>\n",
       "      <td>034 Ank Podium</td>\n",
       "      <td>macfit</td>\n",
       "      <td>YENI</td>\n",
       "      <td>Ankara</td>\n",
       "      <td>Podium</td>\n",
       "    </tr>\n",
       "    <tr>\n",
       "      <th>180</th>\n",
       "      <td>macfit_kıbrıs_sehitleri</td>\n",
       "      <td>95</td>\n",
       "      <td>092 Izm Kibris Sehitleri</td>\n",
       "      <td>macfit</td>\n",
       "      <td>ESKI</td>\n",
       "      <td>NaN</td>\n",
       "      <td>NaN</td>\n",
       "    </tr>\n",
       "  </tbody>\n",
       "</table>\n",
       "</div>"
      ],
      "text/plain": [
       "          DIGITAL_MARKETING_NAME  DB_CLUB_ID             DB_SHORT_NAME  \\\n",
       "42                         fulya          14             021 Ist Fulya   \n",
       "160                    mac_zorlu          92      089 Ist Zorlu Center   \n",
       "197       macfit_nişantaşı_lotus         109   104 Ist Nisantasi Lotus   \n",
       "82   macfit_podium_(yenimahalle)          35            034 Ank Podium   \n",
       "180      macfit_kıbrıs_sehitleri          95  092 Izm Kibris Sehitleri   \n",
       "\n",
       "    DB_CLUB_TYPE YENI_ESKI DB_CITY_NAME DB_NAME  \n",
       "42        macfit      YENI     İstanbul   Fulya  \n",
       "160          mac      ESKI          NaN     NaN  \n",
       "197       macfit      ESKI          NaN     NaN  \n",
       "82        macfit      YENI       Ankara  Podium  \n",
       "180       macfit      ESKI          NaN     NaN  "
      ]
     },
     "execution_count": 18,
     "metadata": {},
     "output_type": "execute_result"
    }
   ],
   "source": [
    "## Bu kısım LEAD_ADS ile birleştirilirken çıkartılabilir\n",
    "#########\n",
    "current_location = 'C:\\\\Users\\\\'+ username +'\\\\Documents\\\\GitHub\\\\macdigital\\\\Leads\\\\'\n",
    "club_lookup = pd.read_excel(current_location + 'CLUB_NAME_LOOKUP.xlsx')\n",
    "\n",
    "\n",
    "club_lookup_yeni = club_lookup.query(\"YENI_ESKI == 'YENI' \")\n",
    "club_lookup_yeni_1 = club_lookup_yeni.copy()\n",
    "club_lookup_yeni_2 = club_lookup_yeni.copy()\n",
    "club_lookup_yeni_1['DIGITAL_MARKETING_NAME'] = club_lookup_yeni['DIGITAL_MARKETING_NAME'].str.lower().str.replace(' ',\"_\")\n",
    "club_lookup_yeni_2['DIGITAL_MARKETING_NAME'] = club_lookup_yeni['DB_CLUB_TYPE']+ '_' + club_lookup_yeni['DIGITAL_MARKETING_NAME'].str.lower().str.replace(' ',\"_\")\n",
    "\n",
    "club_lookup_final = pd.concat([club_lookup,\n",
    "          club_lookup_yeni_1,\n",
    "          club_lookup_yeni_2\n",
    "          ],axis=0\n",
    "         )\n",
    "\n",
    "club_lookup_final.drop_duplicates(subset=['DIGITAL_MARKETING_NAME'],inplace=True)\n",
    "#########\n",
    "\n",
    "club_lookup_tiktok = club_lookup_final.copy()\n",
    "club_lookup_tiktok['DIGITAL_MARKETING_NAME'] = club_lookup_tiktok['DIGITAL_MARKETING_NAME'].str.lower().str.replace(' ','_')\n",
    "club_lookup_tiktok.drop_duplicates(subset=['DIGITAL_MARKETING_NAME'],inplace=True)\n",
    "print(club_lookup_tiktok.shape)\n",
    "club_lookup_tiktok.sample(5)"
   ]
  },
  {
   "cell_type": "code",
   "execution_count": 19,
   "id": "8ada682c",
   "metadata": {},
   "outputs": [
    {
     "data": {
      "text/html": [
       "<div>\n",
       "<style scoped>\n",
       "    .dataframe tbody tr th:only-of-type {\n",
       "        vertical-align: middle;\n",
       "    }\n",
       "\n",
       "    .dataframe tbody tr th {\n",
       "        vertical-align: top;\n",
       "    }\n",
       "\n",
       "    .dataframe thead th {\n",
       "        text-align: right;\n",
       "    }\n",
       "</style>\n",
       "<table border=\"1\" class=\"dataframe\">\n",
       "  <thead>\n",
       "    <tr style=\"text-align: right;\">\n",
       "      <th></th>\n",
       "      <th>DIGITAL_MARKETING_NAME</th>\n",
       "      <th>DB_CLUB_ID</th>\n",
       "      <th>DB_SHORT_NAME</th>\n",
       "      <th>DB_CLUB_TYPE</th>\n",
       "      <th>YENI_ESKI</th>\n",
       "      <th>DB_CITY_NAME</th>\n",
       "      <th>DB_NAME</th>\n",
       "    </tr>\n",
       "  </thead>\n",
       "  <tbody>\n",
       "    <tr>\n",
       "      <th>0</th>\n",
       "      <td>01 Burda (Adana)</td>\n",
       "      <td>101</td>\n",
       "      <td>097 Ada 01 Burda</td>\n",
       "      <td>macfit</td>\n",
       "      <td>YENI</td>\n",
       "      <td>Adana</td>\n",
       "      <td>01 Burda</td>\n",
       "    </tr>\n",
       "    <tr>\n",
       "      <th>1</th>\n",
       "      <td>365 AVM (Maltepe)</td>\n",
       "      <td>106</td>\n",
       "      <td>103 Ank 365 AVM</td>\n",
       "      <td>macfit</td>\n",
       "      <td>YENI</td>\n",
       "      <td>Ankara</td>\n",
       "      <td>365 AVM</td>\n",
       "    </tr>\n",
       "    <tr>\n",
       "      <th>2</th>\n",
       "      <td>41 Burda (Kocaeli)</td>\n",
       "      <td>37</td>\n",
       "      <td>037 Koc 41 Burda</td>\n",
       "      <td>macfit</td>\n",
       "      <td>YENI</td>\n",
       "      <td>Kocaeli</td>\n",
       "      <td>41 Burda</td>\n",
       "    </tr>\n",
       "    <tr>\n",
       "      <th>3</th>\n",
       "      <td>42 Maslak</td>\n",
       "      <td>58</td>\n",
       "      <td>058 Ist 42 Maslak</td>\n",
       "      <td>macfit</td>\n",
       "      <td>YENI</td>\n",
       "      <td>İstanbul</td>\n",
       "      <td>42 Maslak</td>\n",
       "    </tr>\n",
       "    <tr>\n",
       "      <th>4</th>\n",
       "      <td>A Plus (Ataköy)</td>\n",
       "      <td>17</td>\n",
       "      <td>006 Ist A Plus</td>\n",
       "      <td>mac</td>\n",
       "      <td>YENI</td>\n",
       "      <td>İstanbul</td>\n",
       "      <td>A Plus</td>\n",
       "    </tr>\n",
       "    <tr>\n",
       "      <th>...</th>\n",
       "      <td>...</td>\n",
       "      <td>...</td>\n",
       "      <td>...</td>\n",
       "      <td>...</td>\n",
       "      <td>...</td>\n",
       "      <td>...</td>\n",
       "      <td>...</td>\n",
       "    </tr>\n",
       "    <tr>\n",
       "      <th>240</th>\n",
       "      <td>macfit_nilüfer_carrefour_bursa</td>\n",
       "      <td>10</td>\n",
       "      <td>017 Bur Nilufer Carrefour</td>\n",
       "      <td>macfit</td>\n",
       "      <td>ESKI</td>\n",
       "      <td>NaN</td>\n",
       "      <td>NaN</td>\n",
       "    </tr>\n",
       "    <tr>\n",
       "      <th>241</th>\n",
       "      <td>macfit_podyumpark_bursa</td>\n",
       "      <td>15</td>\n",
       "      <td>022 Bur Podyumpark</td>\n",
       "      <td>macfit</td>\n",
       "      <td>ESKI</td>\n",
       "      <td>NaN</td>\n",
       "      <td>NaN</td>\n",
       "    </tr>\n",
       "    <tr>\n",
       "      <th>242</th>\n",
       "      <td>macfit_örs_plaza_mersin</td>\n",
       "      <td>82</td>\n",
       "      <td>080 Mer Ors Plaza</td>\n",
       "      <td>macfit</td>\n",
       "      <td>ESKI</td>\n",
       "      <td>NaN</td>\n",
       "      <td>NaN</td>\n",
       "    </tr>\n",
       "    <tr>\n",
       "      <th>243</th>\n",
       "      <td>nilüfer_carrefour_(bursa)</td>\n",
       "      <td>10</td>\n",
       "      <td>017 Bur Nilufer Carrefour</td>\n",
       "      <td>macfit</td>\n",
       "      <td>ESKI</td>\n",
       "      <td>NaN</td>\n",
       "      <td>NaN</td>\n",
       "    </tr>\n",
       "    <tr>\n",
       "      <th>244</th>\n",
       "      <td>podyumpark_(bursa)</td>\n",
       "      <td>15</td>\n",
       "      <td>022 Bur Podyumpark</td>\n",
       "      <td>macfit</td>\n",
       "      <td>ESKI</td>\n",
       "      <td>NaN</td>\n",
       "      <td>NaN</td>\n",
       "    </tr>\n",
       "  </tbody>\n",
       "</table>\n",
       "<p>245 rows × 7 columns</p>\n",
       "</div>"
      ],
      "text/plain": [
       "             DIGITAL_MARKETING_NAME  DB_CLUB_ID              DB_SHORT_NAME  \\\n",
       "0                  01 Burda (Adana)         101           097 Ada 01 Burda   \n",
       "1                 365 AVM (Maltepe)         106            103 Ank 365 AVM   \n",
       "2                41 Burda (Kocaeli)          37           037 Koc 41 Burda   \n",
       "3                         42 Maslak          58          058 Ist 42 Maslak   \n",
       "4                   A Plus (Ataköy)          17             006 Ist A Plus   \n",
       "..                              ...         ...                        ...   \n",
       "240  macfit_nilüfer_carrefour_bursa          10  017 Bur Nilufer Carrefour   \n",
       "241         macfit_podyumpark_bursa          15         022 Bur Podyumpark   \n",
       "242         macfit_örs_plaza_mersin          82          080 Mer Ors Plaza   \n",
       "243       nilüfer_carrefour_(bursa)          10  017 Bur Nilufer Carrefour   \n",
       "244              podyumpark_(bursa)          15         022 Bur Podyumpark   \n",
       "\n",
       "    DB_CLUB_TYPE YENI_ESKI DB_CITY_NAME    DB_NAME  \n",
       "0         macfit      YENI        Adana   01 Burda  \n",
       "1         macfit      YENI       Ankara    365 AVM  \n",
       "2         macfit      YENI      Kocaeli   41 Burda  \n",
       "3         macfit      YENI     İstanbul  42 Maslak  \n",
       "4            mac      YENI     İstanbul     A Plus  \n",
       "..           ...       ...          ...        ...  \n",
       "240       macfit      ESKI          NaN        NaN  \n",
       "241       macfit      ESKI          NaN        NaN  \n",
       "242       macfit      ESKI          NaN        NaN  \n",
       "243       macfit      ESKI          NaN        NaN  \n",
       "244       macfit      ESKI          NaN        NaN  \n",
       "\n",
       "[245 rows x 7 columns]"
      ]
     },
     "execution_count": 19,
     "metadata": {},
     "output_type": "execute_result"
    }
   ],
   "source": [
    "club_lookup"
   ]
  },
  {
   "cell_type": "code",
   "execution_count": 20,
   "id": "c819428a",
   "metadata": {},
   "outputs": [
    {
     "data": {
      "text/html": [
       "<div>\n",
       "<style scoped>\n",
       "    .dataframe tbody tr th:only-of-type {\n",
       "        vertical-align: middle;\n",
       "    }\n",
       "\n",
       "    .dataframe tbody tr th {\n",
       "        vertical-align: top;\n",
       "    }\n",
       "\n",
       "    .dataframe thead th {\n",
       "        text-align: right;\n",
       "    }\n",
       "</style>\n",
       "<table border=\"1\" class=\"dataframe\">\n",
       "  <thead>\n",
       "    <tr style=\"text-align: right;\">\n",
       "      <th></th>\n",
       "      <th>DIGITAL_MARKETING_NAME</th>\n",
       "      <th>DB_CLUB_ID</th>\n",
       "      <th>DB_SHORT_NAME</th>\n",
       "      <th>DB_CLUB_TYPE</th>\n",
       "      <th>YENI_ESKI</th>\n",
       "      <th>DB_CITY_NAME</th>\n",
       "      <th>DB_NAME</th>\n",
       "    </tr>\n",
       "  </thead>\n",
       "  <tbody>\n",
       "    <tr>\n",
       "      <th>0</th>\n",
       "      <td>01_burda_(adana)</td>\n",
       "      <td>101</td>\n",
       "      <td>097 Ada 01 Burda</td>\n",
       "      <td>macfit</td>\n",
       "      <td>YENI</td>\n",
       "      <td>Adana</td>\n",
       "      <td>01 Burda</td>\n",
       "    </tr>\n",
       "    <tr>\n",
       "      <th>1</th>\n",
       "      <td>365_avm_(maltepe)</td>\n",
       "      <td>106</td>\n",
       "      <td>103 Ank 365 AVM</td>\n",
       "      <td>macfit</td>\n",
       "      <td>YENI</td>\n",
       "      <td>Ankara</td>\n",
       "      <td>365 AVM</td>\n",
       "    </tr>\n",
       "    <tr>\n",
       "      <th>2</th>\n",
       "      <td>41_burda_(kocaeli)</td>\n",
       "      <td>37</td>\n",
       "      <td>037 Koc 41 Burda</td>\n",
       "      <td>macfit</td>\n",
       "      <td>YENI</td>\n",
       "      <td>Kocaeli</td>\n",
       "      <td>41 Burda</td>\n",
       "    </tr>\n",
       "    <tr>\n",
       "      <th>3</th>\n",
       "      <td>42_maslak</td>\n",
       "      <td>58</td>\n",
       "      <td>058 Ist 42 Maslak</td>\n",
       "      <td>macfit</td>\n",
       "      <td>YENI</td>\n",
       "      <td>İstanbul</td>\n",
       "      <td>42 Maslak</td>\n",
       "    </tr>\n",
       "    <tr>\n",
       "      <th>4</th>\n",
       "      <td>a_plus_(ataköy)</td>\n",
       "      <td>17</td>\n",
       "      <td>006 Ist A Plus</td>\n",
       "      <td>mac</td>\n",
       "      <td>YENI</td>\n",
       "      <td>İstanbul</td>\n",
       "      <td>A Plus</td>\n",
       "    </tr>\n",
       "    <tr>\n",
       "      <th>...</th>\n",
       "      <td>...</td>\n",
       "      <td>...</td>\n",
       "      <td>...</td>\n",
       "      <td>...</td>\n",
       "      <td>...</td>\n",
       "      <td>...</td>\n",
       "      <td>...</td>\n",
       "    </tr>\n",
       "    <tr>\n",
       "      <th>92</th>\n",
       "      <td>macfit_vadistanbul_(sarıyer)</td>\n",
       "      <td>90</td>\n",
       "      <td>094 Ist Umraniye Cagla Plaza</td>\n",
       "      <td>macfit</td>\n",
       "      <td>YENI</td>\n",
       "      <td>İstanbul</td>\n",
       "      <td>Vadistanbul</td>\n",
       "    </tr>\n",
       "    <tr>\n",
       "      <th>93</th>\n",
       "      <td>macfit_vega_(sultangazi)</td>\n",
       "      <td>105</td>\n",
       "      <td>102 Ist Vega</td>\n",
       "      <td>macfit</td>\n",
       "      <td>YENI</td>\n",
       "      <td>İstanbul</td>\n",
       "      <td>Vega</td>\n",
       "    </tr>\n",
       "    <tr>\n",
       "      <th>94</th>\n",
       "      <td>macfit_vialand_(eyüp)</td>\n",
       "      <td>8</td>\n",
       "      <td>015 Ist Vialand</td>\n",
       "      <td>macfit</td>\n",
       "      <td>YENI</td>\n",
       "      <td>İstanbul</td>\n",
       "      <td>Vialand</td>\n",
       "    </tr>\n",
       "    <tr>\n",
       "      <th>95</th>\n",
       "      <td>macfit_watergarden_(ataşehir)</td>\n",
       "      <td>47</td>\n",
       "      <td>043 Ist Watergarden</td>\n",
       "      <td>macfit</td>\n",
       "      <td>YENI</td>\n",
       "      <td>İstanbul</td>\n",
       "      <td>Watergarden</td>\n",
       "    </tr>\n",
       "    <tr>\n",
       "      <th>97</th>\n",
       "      <td>mac_zorlu_center_(beşiktaş)</td>\n",
       "      <td>92</td>\n",
       "      <td>089 Ist Zorlu Center</td>\n",
       "      <td>mac</td>\n",
       "      <td>YENI</td>\n",
       "      <td>İstanbul</td>\n",
       "      <td>Zorlu Center</td>\n",
       "    </tr>\n",
       "  </tbody>\n",
       "</table>\n",
       "<p>295 rows × 7 columns</p>\n",
       "</div>"
      ],
      "text/plain": [
       "           DIGITAL_MARKETING_NAME  DB_CLUB_ID                 DB_SHORT_NAME  \\\n",
       "0                01_burda_(adana)         101              097 Ada 01 Burda   \n",
       "1               365_avm_(maltepe)         106               103 Ank 365 AVM   \n",
       "2              41_burda_(kocaeli)          37              037 Koc 41 Burda   \n",
       "3                       42_maslak          58             058 Ist 42 Maslak   \n",
       "4                 a_plus_(ataköy)          17                006 Ist A Plus   \n",
       "..                            ...         ...                           ...   \n",
       "92   macfit_vadistanbul_(sarıyer)          90  094 Ist Umraniye Cagla Plaza   \n",
       "93       macfit_vega_(sultangazi)         105                  102 Ist Vega   \n",
       "94          macfit_vialand_(eyüp)           8               015 Ist Vialand   \n",
       "95  macfit_watergarden_(ataşehir)          47           043 Ist Watergarden   \n",
       "97    mac_zorlu_center_(beşiktaş)          92          089 Ist Zorlu Center   \n",
       "\n",
       "   DB_CLUB_TYPE YENI_ESKI DB_CITY_NAME       DB_NAME  \n",
       "0        macfit      YENI        Adana      01 Burda  \n",
       "1        macfit      YENI       Ankara       365 AVM  \n",
       "2        macfit      YENI      Kocaeli      41 Burda  \n",
       "3        macfit      YENI     İstanbul     42 Maslak  \n",
       "4           mac      YENI     İstanbul        A Plus  \n",
       "..          ...       ...          ...           ...  \n",
       "92       macfit      YENI     İstanbul   Vadistanbul  \n",
       "93       macfit      YENI     İstanbul          Vega  \n",
       "94       macfit      YENI     İstanbul       Vialand  \n",
       "95       macfit      YENI     İstanbul   Watergarden  \n",
       "97          mac      YENI     İstanbul  Zorlu Center  \n",
       "\n",
       "[295 rows x 7 columns]"
      ]
     },
     "execution_count": 20,
     "metadata": {},
     "output_type": "execute_result"
    }
   ],
   "source": [
    "club_lookup_tiktok"
   ]
  },
  {
   "cell_type": "code",
   "execution_count": 21,
   "id": "771b4320",
   "metadata": {
    "scrolled": true
   },
   "outputs": [
    {
     "data": {
      "text/plain": [
       "(4192, 18)"
      ]
     },
     "execution_count": 21,
     "metadata": {},
     "output_type": "execute_result"
    }
   ],
   "source": [
    "df_tiktok_leads.shape"
   ]
  },
  {
   "cell_type": "code",
   "execution_count": 22,
   "id": "35b072c1",
   "metadata": {
    "scrolled": false
   },
   "outputs": [
    {
     "data": {
      "text/plain": [
       "(4192, 21)"
      ]
     },
     "execution_count": 22,
     "metadata": {},
     "output_type": "execute_result"
    }
   ],
   "source": [
    "df_tiktok_leads = pd.merge(df_tiktok_leads,\n",
    "                           club_lookup_tiktok[['DIGITAL_MARKETING_NAME', 'DB_CLUB_ID', 'DB_SHORT_NAME']],\n",
    "                           left_on = 'CLUB', right_on = 'DIGITAL_MARKETING_NAME',how='left'\n",
    "                          )\n",
    "\n",
    "df_tiktok_leads.rename(columns={'DB_CLUB_ID': 'LEAD_CLUB_ID', 'DB_SHORT_NAME': 'LEAD_SHORT_NAME' },inplace=True)\n",
    "\n",
    "df_tiktok_leads.shape"
   ]
  },
  {
   "cell_type": "code",
   "execution_count": 23,
   "id": "7e4bbd61",
   "metadata": {},
   "outputs": [
    {
     "data": {
      "text/plain": [
       "LEAD_ID                                                0\n",
       "CREATED_TIME                                           0\n",
       "AD_ID                                                  0\n",
       "AD_NAME                                                0\n",
       "ADGROUP_ID                                             0\n",
       "ADGROUP_NAME                                           0\n",
       "CAMPAIGN_ID                                            0\n",
       "CAMPAIGN_NAME                                          0\n",
       "FORM_ID                                                0\n",
       "FORM_NAME                                              0\n",
       "NAME                                                   0\n",
       "EMAIL                                                  0\n",
       "TELEFON NUMARASI                                       0\n",
       "HANGI KULÜBÜMÜZLE İLGILI BILGI ALMAK İSTERSINIZ?    3979\n",
       "HANGI KULÜBÜMÜZLE İLGILI BILGI ALMAK İSTERSIN?       410\n",
       "CLUB                                                   0\n",
       "LEAD_DAY                                               0\n",
       "PHONE                                                  0\n",
       "DIGITAL_MARKETING_NAME                                 0\n",
       "LEAD_CLUB_ID                                           0\n",
       "LEAD_SHORT_NAME                                        0\n",
       "dtype: int64"
      ]
     },
     "execution_count": 23,
     "metadata": {},
     "output_type": "execute_result"
    }
   ],
   "source": [
    "df_tiktok_leads.isna().sum()"
   ]
  },
  {
   "cell_type": "code",
   "execution_count": 24,
   "id": "07317446",
   "metadata": {
    "scrolled": true
   },
   "outputs": [
    {
     "data": {
      "text/plain": [
       "Index(['LEAD_ID', 'CREATED_TIME', 'AD_ID', 'AD_NAME', 'ADGROUP_ID',\n",
       "       'ADGROUP_NAME', 'CAMPAIGN_ID', 'CAMPAIGN_NAME', 'FORM_ID', 'FORM_NAME',\n",
       "       'NAME', 'EMAIL', 'TELEFON NUMARASI',\n",
       "       'HANGI KULÜBÜMÜZLE İLGILI BILGI ALMAK İSTERSINIZ?',\n",
       "       'HANGI KULÜBÜMÜZLE İLGILI BILGI ALMAK İSTERSIN?', 'CLUB', 'LEAD_DAY',\n",
       "       'PHONE', 'DIGITAL_MARKETING_NAME', 'LEAD_CLUB_ID', 'LEAD_SHORT_NAME'],\n",
       "      dtype='object')"
      ]
     },
     "execution_count": 24,
     "metadata": {},
     "output_type": "execute_result"
    }
   ],
   "source": [
    "df_tiktok_leads.columns"
   ]
  },
  {
   "cell_type": "code",
   "execution_count": 25,
   "id": "c9807c65",
   "metadata": {},
   "outputs": [
    {
     "name": "stdout",
     "output_type": "stream",
     "text": [
      "<class 'pandas.core.frame.DataFrame'>\n",
      "Int64Index: 4192 entries, 0 to 4191\n",
      "Data columns (total 21 columns):\n",
      " #   Column                                            Non-Null Count  Dtype         \n",
      "---  ------                                            --------------  -----         \n",
      " 0   LEAD_ID                                           4192 non-null   int64         \n",
      " 1   CREATED_TIME                                      4192 non-null   object        \n",
      " 2   AD_ID                                             4192 non-null   int64         \n",
      " 3   AD_NAME                                           4192 non-null   object        \n",
      " 4   ADGROUP_ID                                        4192 non-null   int64         \n",
      " 5   ADGROUP_NAME                                      4192 non-null   object        \n",
      " 6   CAMPAIGN_ID                                       4192 non-null   int64         \n",
      " 7   CAMPAIGN_NAME                                     4192 non-null   object        \n",
      " 8   FORM_ID                                           4192 non-null   int64         \n",
      " 9   FORM_NAME                                         4192 non-null   object        \n",
      " 10  NAME                                              4192 non-null   object        \n",
      " 11  EMAIL                                             4192 non-null   object        \n",
      " 12  TELEFON NUMARASI                                  4192 non-null   object        \n",
      " 13  HANGI KULÜBÜMÜZLE İLGILI BILGI ALMAK İSTERSINIZ?  213 non-null    object        \n",
      " 14  HANGI KULÜBÜMÜZLE İLGILI BILGI ALMAK İSTERSIN?    3782 non-null   object        \n",
      " 15  CLUB                                              4192 non-null   object        \n",
      " 16  LEAD_DAY                                          4192 non-null   datetime64[ns]\n",
      " 17  PHONE                                             4192 non-null   object        \n",
      " 18  DIGITAL_MARKETING_NAME                            4192 non-null   object        \n",
      " 19  LEAD_CLUB_ID                                      4192 non-null   int64         \n",
      " 20  LEAD_SHORT_NAME                                   4192 non-null   object        \n",
      "dtypes: datetime64[ns](1), int64(6), object(14)\n",
      "memory usage: 720.5+ KB\n"
     ]
    }
   ],
   "source": [
    "df_tiktok_leads.info()"
   ]
  },
  {
   "cell_type": "code",
   "execution_count": 26,
   "id": "055d7198",
   "metadata": {},
   "outputs": [],
   "source": [
    "#df_tiktok_leads.to_excel('tiktok_leads_6.xlsx')"
   ]
  },
  {
   "cell_type": "code",
   "execution_count": 27,
   "id": "4f4231e9",
   "metadata": {},
   "outputs": [],
   "source": [
    "def insert_dwh_tiktok(records):\n",
    "    \n",
    "    ### CREATE ORACLE SQL INSERT FUNCTIONS ###\n",
    "    import cx_Oracle\n",
    "    from datetime import datetime\n",
    "\n",
    "    # ORACLE CONNECTION INFO\n",
    "    CONN_INFO = {'host': YOUR_HOST,\n",
    "                 'port': YOUR_PORT,\n",
    "                 'user': YOUR_USER,\n",
    "                 'psw': YOUR_PASSWORD,\n",
    "                 'service': YOUR_SERVICE}\n",
    "\n",
    "    CONN_STR = '{user}/{psw}@{host}:{port}/{service}'.format(**CONN_INFO)\n",
    "\n",
    "    \"\"\"\n",
    "    insert multiple records\n",
    "    :param records: a list of records\n",
    "    :return:\n",
    "    \"\"\"\n",
    "    # construct an insert statement that add a new row to the DWH.DIGITAL_LEADS_TIKTOK table\n",
    "    sql = ('insert into DWH.DIGITAL_LEADS_TIKTOK '\n",
    "        'values(:LEAD_ID,:AD_ID,:AD_NAME,:ADGROUP_ID,:ADGROUP_NAME,:CAMPAIGN_ID,:CAMPAIGN_NAME,:FORM_ID,:FORM_NAME,'\n",
    "        ':LEAD_DAY,:NAME,:PHONE,:EMAIL,:CLUB,:LEAD_CLUB_ID,:LEAD_SHORT_NAME,:ETL_DATE)')\n",
    "    #print(sql)\n",
    "\n",
    "    try:\n",
    "        # establish a new connection\n",
    "        with cx_Oracle.connect(CONN_STR) as connection:\n",
    "            # create a cursor\n",
    "            with connection.cursor() as cursor:\n",
    "                print('\\nAll Facebook Leads are inserting to \"DWH.DIGITAL_LEADS_TIKTOK\" table ')\n",
    "                time = datetime.now()\n",
    "                print(f'Starting Time: {time.year}-{time.month}-{time.day},{time.hour}:{time.minute}:{time.second}')\n",
    "\n",
    "                #### cursor.executemany operation #### \n",
    "                cursor.executemany(sql, records)                \n",
    "\n",
    "                ### COMMITING WORK ###\n",
    "                connection.commit()\n",
    "                print(f'\\tTABLE INSERT IS COMPLETED: {len(records)} rows are inserted to \"DWH.DIGITAL_LEADS_TIKTOK\" table')\n",
    "                time = datetime.now()\n",
    "                print(f'Ending Time: {time.year}-{time.month}-{time.day},{time.hour}:{time.minute}:{time.second}')\n",
    "    except cx_Oracle.Error as error:\n",
    "        print('Error occurred:')\n",
    "        print(error)\n",
    "\n",
    "######################################\n",
    "##### INSERT LEADS TO DWH ############"
   ]
  },
  {
   "cell_type": "code",
   "execution_count": 29,
   "id": "14f6819a",
   "metadata": {
    "scrolled": true
   },
   "outputs": [
    {
     "name": "stdout",
     "output_type": "stream",
     "text": [
      "\n",
      "Table Count koşuyor.. Başlama saati 9:50:57\n",
      "\tTable Count 3.8 saniyede koştu.\n",
      "\n",
      "df_tiktok_leads_old shape : (4317, 16)\n",
      "df_tiktok_leads_new shape : (4192, 16)\n",
      "df_insert shape : (0, 17)\n",
      "\n",
      "***** TIKTOK LEADS DIDN'T BE INSERTED BECASUE THERE IS NO NEW RECORDS *****\n"
     ]
    }
   ],
   "source": [
    "#desired column names\n",
    "db_cols = ['LEAD_ID','AD_ID','AD_NAME','ADGROUP_ID','ADGROUP_NAME',\n",
    "           'CAMPAIGN_ID','CAMPAIGN_NAME','FORM_ID','FORM_NAME','LEAD_DAY',\n",
    "           'NAME','PHONE','EMAIL','CLUB','LEAD_CLUB_ID','LEAD_SHORT_NAME']\n",
    "\n",
    "df_tiktok_leads_prev = run_query('select * from DWH.DIGITAL_LEADS_TIKTOK','Table Count')\n",
    "\n",
    "df_tiktok_leads_old = df_tiktok_leads_prev[db_cols].copy()\n",
    "df_tiktok_leads_new = df_tiktok_leads[db_cols].copy()\n",
    "df_tiktok_leads_new.reset_index(drop=True,inplace=True)\n",
    "\n",
    "print(f'df_tiktok_leads_old shape : {df_tiktok_leads_old.shape}')\n",
    "print(f'df_tiktok_leads_new shape : {df_tiktok_leads_new.shape}')     \n",
    "\n",
    "df_insert = df_tiktok_leads_old.merge(df_tiktok_leads_new, on=db_cols, how='outer', indicator=True)\n",
    "\n",
    "df_insert = df_insert[df_insert['_merge']=='right_only']\n",
    "print(f'df_insert shape : {df_insert.shape}')\n",
    "df_insert.reset_index(drop=True,inplace=True)\n",
    "\n",
    "\n",
    "#If there are new rows, then insert them\n",
    "if len(df_insert) > 0:\n",
    "\n",
    "    #insertList = list(insert_df.to_records(index=False))\n",
    "    insertList=[]\n",
    "    nonInsertList = []\n",
    "    etl_date = datetime.now()\n",
    "\n",
    "    for i in range(len(df_insert)):\n",
    "        ## if that row doesn't have any \"nan\" value\n",
    "        if df_insert.loc[i].isna().sum()==0:\n",
    "            ts_lead_day = df_insert.loc[i,'LEAD_DAY']\n",
    "\n",
    "            lead_id = int(df_insert.loc[i,'LEAD_ID'])\n",
    "            ad_id = int(df_insert.loc[i,'AD_ID'])\n",
    "            ad_name = df_insert.loc[i,'AD_NAME']\n",
    "            adgroup_id = int(df_insert.loc[i,'ADGROUP_ID'])\n",
    "            adgroup_name = df_insert.loc[i,'ADGROUP_NAME']\n",
    "            campaign_id = int(df_insert.loc[i,'CAMPAIGN_ID'])\n",
    "            campaign_name = df_insert.loc[i,'CAMPAIGN_NAME']\n",
    "            form_id = int(df_insert.loc[i,'FORM_ID'])\n",
    "            form_name = df_insert.loc[i,'FORM_NAME']\n",
    "            lead_day = datetime(ts_lead_day.year,ts_lead_day.month,ts_lead_day.day)\n",
    "            name = df_insert.loc[i,'NAME']\n",
    "            phone = df_insert.loc[i,'PHONE']\n",
    "            email = df_insert.loc[i,'EMAIL']\n",
    "            club = df_insert.loc[i,'CLUB']\n",
    "            lead_club_id = int(df_insert.loc[i,'LEAD_CLUB_ID'])\n",
    "            lead_short_name = df_insert.loc[i,'LEAD_SHORT_NAME']\n",
    "\n",
    "\n",
    "            insertList.append((lead_id, ad_id, ad_name, adgroup_id, adgroup_name, \n",
    "                               campaign_id, campaign_name, form_id, form_name, \n",
    "                               lead_day, name, phone, email, club, \n",
    "                               lead_club_id, lead_short_name, etl_date))\n",
    "        ## if that row have a \"nan\" value\n",
    "        else:\n",
    "            nonInsertList.append(list(df_insert.loc[i].values))\n",
    "\n",
    "    insert_dwh_tiktok(insertList)\n",
    "    if len(nonInsertList)>0:\n",
    "        df_nonInsert = pd.DataFrame(nonInsertList,columns=df_insert.columns)\n",
    "        print(f\"\\n !!! {len(nonInsertList)} Tiktok leads didn't be inserted because they have 'nan' values, check: 'df_nonInsert'\")\n",
    "else:\n",
    "    print(\"\\n***** TIKTOK LEADS DIDN'T BE INSERTED BECASUE THERE IS NO NEW RECORDS *****\")"
   ]
  }
 ],
 "metadata": {
  "kernelspec": {
   "display_name": "Python 3 (ipykernel)",
   "language": "python",
   "name": "python3"
  },
  "language_info": {
   "codemirror_mode": {
    "name": "ipython",
    "version": 3
   },
   "file_extension": ".py",
   "mimetype": "text/x-python",
   "name": "python",
   "nbconvert_exporter": "python",
   "pygments_lexer": "ipython3",
   "version": "3.9.7"
  },
  "varInspector": {
   "cols": {
    "lenName": 16,
    "lenType": 16,
    "lenVar": 40
   },
   "kernels_config": {
    "python": {
     "delete_cmd_postfix": "",
     "delete_cmd_prefix": "del ",
     "library": "var_list.py",
     "varRefreshCmd": "print(var_dic_list())"
    },
    "r": {
     "delete_cmd_postfix": ") ",
     "delete_cmd_prefix": "rm(",
     "library": "var_list.r",
     "varRefreshCmd": "cat(var_dic_list()) "
    }
   },
   "types_to_exclude": [
    "module",
    "function",
    "builtin_function_or_method",
    "instance",
    "_Feature"
   ],
   "window_display": false
  }
 },
 "nbformat": 4,
 "nbformat_minor": 5
}
